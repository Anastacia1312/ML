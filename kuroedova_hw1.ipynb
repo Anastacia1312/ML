{
 "cells": [
  {
   "cell_type": "markdown",
   "metadata": {},
   "source": [
    "**Общая информация**\n",
    "\n",
    "**Срок сдачи:** 21 октября 2019, 08:30 \n",
    "\n",
    "**Штраф за опоздание:** по 0.5 балла за 24 часа задержки. Через 10 дней домашнее задание сгорает.\n",
    "\n",
    "При отправлении ДЗ указывайте фамилию в названии файла\n",
    "Присылать ДЗ необходимо в виде ссылки на свой github репозиторий на почту ml1.sphere@mail.ru с указанием темы в следующем формате:\n",
    "\n",
    "[ML0919, Задание 1] Фамилия Имя.\n",
    "\n",
    "Используйте данный Ipython Notebook при оформлении домашнего задания."
   ]
  },
  {
   "cell_type": "markdown",
   "metadata": {},
   "source": [
    "\n",
    "**Штрафные баллы:**\n",
    "\n",
    "1. Невыполнение PEP8 -0.5 баллов\n",
    "2. Отсутствие фамилии в имени скрипта (скрипт должен называться по аналогии со stroykova_hw1.ipynb) -0.5 баллов\n",
    "3. Все строчки должны быть выполнены. Нужно, чтобы output команды можно было увидеть уже в git'е. В противном случае -0.5 баллов\n"
   ]
  },
  {
   "cell_type": "code",
   "execution_count": 1,
   "metadata": {},
   "outputs": [
    {
     "name": "stdout",
     "output_type": "stream",
     "text": [
      "Requirement already satisfied: pycodestyle in /home/linuxconfig/miniconda3/envs/sphere-py37/lib/python3.7/site-packages (2.5.0)\n",
      "Requirement already satisfied: pycodestyle_magic in /home/linuxconfig/miniconda3/envs/sphere-py37/lib/python3.7/site-packages (0.5)\n",
      "Requirement already satisfied: flake8 in /home/linuxconfig/miniconda3/envs/sphere-py37/lib/python3.7/site-packages (3.7.8)\n",
      "Requirement already satisfied: mccabe<0.7.0,>=0.6.0 in /home/linuxconfig/miniconda3/envs/sphere-py37/lib/python3.7/site-packages (from flake8) (0.6.1)\n",
      "Requirement already satisfied: pyflakes<2.2.0,>=2.1.0 in /home/linuxconfig/miniconda3/envs/sphere-py37/lib/python3.7/site-packages (from flake8) (2.1.1)\n",
      "Requirement already satisfied: entrypoints<0.4.0,>=0.3.0 in /home/linuxconfig/miniconda3/envs/sphere-py37/lib/python3.7/site-packages (from flake8) (0.3)\n",
      "Note: you may need to restart the kernel to use updated packages.\n"
     ]
    }
   ],
   "source": [
    "pip install pycodestyle pycodestyle_magic flake8"
   ]
  },
  {
   "cell_type": "code",
   "execution_count": 2,
   "metadata": {},
   "outputs": [
    {
     "name": "stdout",
     "output_type": "stream",
     "text": [
      "Requirement already satisfied: sklearn in /home/linuxconfig/miniconda3/envs/sphere-py37/lib/python3.7/site-packages (0.0)\n",
      "Requirement already satisfied: scikit-learn in /home/linuxconfig/miniconda3/envs/sphere-py37/lib/python3.7/site-packages (from sklearn) (0.21.3)\n",
      "Requirement already satisfied: joblib>=0.11 in /home/linuxconfig/miniconda3/envs/sphere-py37/lib/python3.7/site-packages (from scikit-learn->sklearn) (0.13.2)\n",
      "Requirement already satisfied: numpy>=1.11.0 in /home/linuxconfig/miniconda3/envs/sphere-py37/lib/python3.7/site-packages (from scikit-learn->sklearn) (1.17.2)\n",
      "Requirement already satisfied: scipy>=0.17.0 in /home/linuxconfig/miniconda3/envs/sphere-py37/lib/python3.7/site-packages (from scikit-learn->sklearn) (1.3.1)\n",
      "Note: you may need to restart the kernel to use updated packages.\n"
     ]
    }
   ],
   "source": [
    "pip install sklearn"
   ]
  },
  {
   "cell_type": "code",
   "execution_count": 3,
   "metadata": {},
   "outputs": [],
   "source": [
    "import numpy as np\n",
    "import matplotlib.pyplot as plt\n",
    "\n",
    "import seaborn as sns\n",
    "from sklearn import datasets\n",
    "from sklearn.base import ClassifierMixin\n",
    "from sklearn.datasets import fetch_mldata, fetch_20newsgroups\n",
    "\n",
    "from sklearn.neighbors.base import NeighborsBase, KNeighborsMixin, SupervisedIntegerMixin \n",
    "from sklearn.model_selection import train_test_split\n",
    "from sklearn.neighbors import KNeighborsClassifier\n",
    "%load_ext pycodestyle_magic"
   ]
  },
  {
   "cell_type": "markdown",
   "metadata": {},
   "source": [
    "##### Задание 1 (1 балл)\n",
    "Реализовать KNN в классе MyKNeighborsClassifier (обязательное условие: точность не ниже sklearn реализации)\n",
    "Разберитесь самостоятельно, какая мера расстояния используется в KNeighborsClassifier дефолтно и реализуйте свой алгоритм именно с этой мерой. Самостоятельно разберитесь, как считается score из KNeighborsClassifier и реализуйте аналог в своём классе. Score не должен уступать значению KNN из sklearn"
   ]
  },
  {
   "cell_type": "code",
   "execution_count": 4,
   "metadata": {},
   "outputs": [],
   "source": [
    "from sklearn.neighbors import KDTree\n",
    "from sklearn.metrics import pairwise_distances\n",
    "\n",
    "class MyKNeighborsClassifier(NeighborsBase, KNeighborsMixin, SupervisedIntegerMixin, ClassifierMixin):\n",
    "    \n",
    "    def __init__(self, n_neighbors, algorithm='brute'):\n",
    "        self.n_neighbors = n_neighbors\n",
    "        self.algorithm = algorithm\n",
    "    \n",
    "    def fit(self, X, y):\n",
    "        self.train_y = y.astype(int)\n",
    "        self.train_x = X\n",
    "        self.number_of_classes = len(np.unique(self.train_y))\n",
    "        if self.algorithm == 'kd_tree':\n",
    "            self.tree = KDTree(np.array(X))\n",
    "    \n",
    "    def predict(self, X):\n",
    "        if self.algorithm == 'kd_tree':\n",
    "            indexes_of_nearest_objects = self.tree.query(X, self.n_neighbors)[1]\n",
    "        else:\n",
    "            indexes_of_nearest_objects = np.argpartition(pairwise_distances(X, self.train_x), self.n_neighbors)[:, :self.n_neighbors]\n",
    "        nearest_classes = self.train_y[indexes_of_nearest_objects]\n",
    "        return np.array(list(map(lambda x: np.argmax(np.bincount(x)), nearest_classes)))\n",
    "\n",
    "    def predict_proba(self, X):\n",
    "        if self.algorithm == 'kd_tree':\n",
    "            indexes_of_nearest_objects = self.tree.query(X, k=self.n_neighbors)[1]\n",
    "        else:\n",
    "            indexes_of_nearest_objects = np.argpartition(pairwise_distances(X, self.train_x), self.n_neighbors)[:, :self.n_neighbors]\n",
    "        nearest_classes = self.train_y[indexes_of_nearest_objects]\n",
    "        return np.array(list(map(lambda x: np.bincount(x, minlength=self.number_of_classes), nearest_classes))) / self.n_neighbors\n",
    "    \n",
    "    def score(self, X, y):\n",
    "        return (1 - len(np.nonzero(self.predict(X)-y)[0]) / len(y))"
   ]
  },
  {
   "cell_type": "markdown",
   "metadata": {},
   "source": [
    "**IRIS**\n",
    "\n",
    "В библиотеке scikit-learn есть несколько датасетов из коробки. Один из них [Ирисы Фишера](https://ru.wikipedia.org/wiki/%D0%98%D1%80%D0%B8%D1%81%D1%8B_%D0%A4%D0%B8%D1%88%D0%B5%D1%80%D0%B0)"
   ]
  },
  {
   "cell_type": "code",
   "execution_count": 5,
   "metadata": {},
   "outputs": [],
   "source": [
    "iris = datasets.load_iris()"
   ]
  },
  {
   "cell_type": "code",
   "execution_count": 6,
   "metadata": {},
   "outputs": [],
   "source": [
    "X_train, X_test, y_train, y_test = train_test_split(iris.data, iris.target, test_size=0.1, stratify=iris.target)"
   ]
  },
  {
   "cell_type": "code",
   "execution_count": 7,
   "metadata": {},
   "outputs": [],
   "source": [
    "clf = KNeighborsClassifier(n_neighbors=2, algorithm='brute')\n",
    "my_clf = MyKNeighborsClassifier(n_neighbors=2, algorithm='brute')"
   ]
  },
  {
   "cell_type": "code",
   "execution_count": 8,
   "metadata": {},
   "outputs": [],
   "source": [
    "clf.fit(X_train, y_train)\n",
    "my_clf.fit(X_train, y_train)"
   ]
  },
  {
   "cell_type": "code",
   "execution_count": 9,
   "metadata": {},
   "outputs": [],
   "source": [
    "assert abs(my_clf.score(X_test, y_test) - clf.score(X_test,y_test))<0.005, \"Score must be simillar\""
   ]
  },
  {
   "cell_type": "markdown",
   "metadata": {},
   "source": [
    "**Задание 2 (0.5 балла)**\n",
    "\n",
    "Давайте попробуем добиться скорости работы на fit, predict и predict_proba сравнимой со sklearn для iris.\n",
    "Для этого используем numpy"
   ]
  },
  {
   "cell_type": "code",
   "execution_count": 10,
   "metadata": {},
   "outputs": [
    {
     "name": "stdout",
     "output_type": "stream",
     "text": [
      "CPU times: user 0 ns, sys: 0 ns, total: 0 ns\n",
      "Wall time: 1.67 ms\n"
     ]
    },
    {
     "data": {
      "text/plain": [
       "KNeighborsClassifier(algorithm='brute', leaf_size=30, metric='minkowski',\n",
       "                     metric_params=None, n_jobs=None, n_neighbors=2, p=2,\n",
       "                     weights='uniform')"
      ]
     },
     "execution_count": 10,
     "metadata": {},
     "output_type": "execute_result"
    }
   ],
   "source": [
    "%time clf.fit(X_train, y_train)"
   ]
  },
  {
   "cell_type": "code",
   "execution_count": 11,
   "metadata": {},
   "outputs": [
    {
     "name": "stdout",
     "output_type": "stream",
     "text": [
      "CPU times: user 0 ns, sys: 0 ns, total: 0 ns\n",
      "Wall time: 186 µs\n"
     ]
    }
   ],
   "source": [
    "%time my_clf.fit(X_train, y_train)"
   ]
  },
  {
   "cell_type": "code",
   "execution_count": 12,
   "metadata": {},
   "outputs": [
    {
     "name": "stdout",
     "output_type": "stream",
     "text": [
      "CPU times: user 0 ns, sys: 0 ns, total: 0 ns\n",
      "Wall time: 4.25 ms\n"
     ]
    },
    {
     "data": {
      "text/plain": [
       "array([0, 1, 2, 0, 2, 1, 2, 1, 0, 2, 0, 0, 2, 1, 1])"
      ]
     },
     "execution_count": 12,
     "metadata": {},
     "output_type": "execute_result"
    }
   ],
   "source": [
    "%time clf.predict(X_test)"
   ]
  },
  {
   "cell_type": "code",
   "execution_count": 13,
   "metadata": {},
   "outputs": [
    {
     "name": "stdout",
     "output_type": "stream",
     "text": [
      "CPU times: user 0 ns, sys: 0 ns, total: 0 ns\n",
      "Wall time: 6.18 ms\n"
     ]
    },
    {
     "data": {
      "text/plain": [
       "array([0, 1, 2, 0, 2, 1, 2, 1, 0, 2, 0, 0, 2, 1, 1])"
      ]
     },
     "execution_count": 13,
     "metadata": {},
     "output_type": "execute_result"
    }
   ],
   "source": [
    "%time my_clf.predict(X_test)"
   ]
  },
  {
   "cell_type": "code",
   "execution_count": 14,
   "metadata": {},
   "outputs": [
    {
     "name": "stdout",
     "output_type": "stream",
     "text": [
      "CPU times: user 0 ns, sys: 15.6 ms, total: 15.6 ms\n",
      "Wall time: 1.98 ms\n"
     ]
    },
    {
     "data": {
      "text/plain": [
       "array([[1. , 0. , 0. ],\n",
       "       [0. , 0.5, 0.5],\n",
       "       [0. , 0. , 1. ],\n",
       "       [1. , 0. , 0. ],\n",
       "       [0. , 0. , 1. ],\n",
       "       [0. , 1. , 0. ],\n",
       "       [0. , 0. , 1. ],\n",
       "       [0. , 1. , 0. ],\n",
       "       [1. , 0. , 0. ],\n",
       "       [0. , 0. , 1. ],\n",
       "       [1. , 0. , 0. ],\n",
       "       [1. , 0. , 0. ],\n",
       "       [0. , 0. , 1. ],\n",
       "       [0. , 1. , 0. ],\n",
       "       [0. , 1. , 0. ]])"
      ]
     },
     "execution_count": 14,
     "metadata": {},
     "output_type": "execute_result"
    }
   ],
   "source": [
    "%time clf.predict_proba(X_test)"
   ]
  },
  {
   "cell_type": "code",
   "execution_count": 15,
   "metadata": {},
   "outputs": [
    {
     "name": "stdout",
     "output_type": "stream",
     "text": [
      "CPU times: user 0 ns, sys: 0 ns, total: 0 ns\n",
      "Wall time: 5.09 ms\n"
     ]
    },
    {
     "data": {
      "text/plain": [
       "array([[1. , 0. , 0. ],\n",
       "       [0. , 0.5, 0.5],\n",
       "       [0. , 0. , 1. ],\n",
       "       [1. , 0. , 0. ],\n",
       "       [0. , 0. , 1. ],\n",
       "       [0. , 1. , 0. ],\n",
       "       [0. , 0. , 1. ],\n",
       "       [0. , 1. , 0. ],\n",
       "       [1. , 0. , 0. ],\n",
       "       [0. , 0. , 1. ],\n",
       "       [1. , 0. , 0. ],\n",
       "       [1. , 0. , 0. ],\n",
       "       [0. , 0. , 1. ],\n",
       "       [0. , 1. , 0. ],\n",
       "       [0. , 1. , 0. ]])"
      ]
     },
     "execution_count": 15,
     "metadata": {},
     "output_type": "execute_result"
    }
   ],
   "source": [
    "%time my_clf.predict_proba(X_test)"
   ]
  },
  {
   "cell_type": "markdown",
   "metadata": {},
   "source": [
    "###### Задание 3 (1 балл)\n",
    "Добавьте algorithm='kd_tree' в реализацию KNN (использовать KDTree из sklearn.neighbors). Необходимо добиться скорости работы на fit,  predict и predict_proba сравнимой со sklearn для iris.\n",
    "Для этого используем numpy. Score не должен уступать значению KNN из sklearn"
   ]
  },
  {
   "cell_type": "code",
   "execution_count": 16,
   "metadata": {},
   "outputs": [],
   "source": [
    "clf = KNeighborsClassifier(n_neighbors=2, algorithm='kd_tree')\n",
    "my_clf = MyKNeighborsClassifier(n_neighbors=2, algorithm='kd_tree')"
   ]
  },
  {
   "cell_type": "code",
   "execution_count": 17,
   "metadata": {},
   "outputs": [],
   "source": [
    "X_train, X_test, y_train, y_test = train_test_split(iris.data, iris.target, test_size=0.1, stratify=iris.target)"
   ]
  },
  {
   "cell_type": "code",
   "execution_count": 18,
   "metadata": {},
   "outputs": [
    {
     "name": "stdout",
     "output_type": "stream",
     "text": [
      "CPU times: user 0 ns, sys: 0 ns, total: 0 ns\n",
      "Wall time: 1.65 ms\n"
     ]
    },
    {
     "data": {
      "text/plain": [
       "KNeighborsClassifier(algorithm='kd_tree', leaf_size=30, metric='minkowski',\n",
       "                     metric_params=None, n_jobs=None, n_neighbors=2, p=2,\n",
       "                     weights='uniform')"
      ]
     },
     "execution_count": 18,
     "metadata": {},
     "output_type": "execute_result"
    }
   ],
   "source": [
    "%time clf.fit(X_train, y_train)"
   ]
  },
  {
   "cell_type": "code",
   "execution_count": 19,
   "metadata": {},
   "outputs": [
    {
     "name": "stdout",
     "output_type": "stream",
     "text": [
      "CPU times: user 0 ns, sys: 0 ns, total: 0 ns\n",
      "Wall time: 623 µs\n"
     ]
    }
   ],
   "source": [
    "%time my_clf.fit(X_train, y_train)"
   ]
  },
  {
   "cell_type": "code",
   "execution_count": 20,
   "metadata": {},
   "outputs": [
    {
     "name": "stdout",
     "output_type": "stream",
     "text": [
      "CPU times: user 15.6 ms, sys: 0 ns, total: 15.6 ms\n",
      "Wall time: 3.95 ms\n"
     ]
    },
    {
     "data": {
      "text/plain": [
       "array([1, 0, 2, 2, 0, 1, 0, 1, 1, 0, 0, 2, 1, 1, 2])"
      ]
     },
     "execution_count": 20,
     "metadata": {},
     "output_type": "execute_result"
    }
   ],
   "source": [
    "%time clf.predict(X_test)"
   ]
  },
  {
   "cell_type": "code",
   "execution_count": 21,
   "metadata": {},
   "outputs": [
    {
     "name": "stdout",
     "output_type": "stream",
     "text": [
      "CPU times: user 0 ns, sys: 0 ns, total: 0 ns\n",
      "Wall time: 2.37 ms\n"
     ]
    },
    {
     "data": {
      "text/plain": [
       "array([1, 0, 2, 2, 0, 1, 0, 1, 1, 0, 0, 2, 1, 1, 2])"
      ]
     },
     "execution_count": 21,
     "metadata": {},
     "output_type": "execute_result"
    }
   ],
   "source": [
    "%time my_clf.predict(X_test)"
   ]
  },
  {
   "cell_type": "code",
   "execution_count": 22,
   "metadata": {},
   "outputs": [
    {
     "name": "stdout",
     "output_type": "stream",
     "text": [
      "CPU times: user 0 ns, sys: 0 ns, total: 0 ns\n",
      "Wall time: 1.83 ms\n"
     ]
    },
    {
     "data": {
      "text/plain": [
       "array([[0., 1., 0.],\n",
       "       [1., 0., 0.],\n",
       "       [0., 0., 1.],\n",
       "       [0., 0., 1.],\n",
       "       [1., 0., 0.],\n",
       "       [0., 1., 0.],\n",
       "       [1., 0., 0.],\n",
       "       [0., 1., 0.],\n",
       "       [0., 1., 0.],\n",
       "       [1., 0., 0.],\n",
       "       [1., 0., 0.],\n",
       "       [0., 0., 1.],\n",
       "       [0., 1., 0.],\n",
       "       [0., 1., 0.],\n",
       "       [0., 0., 1.]])"
      ]
     },
     "execution_count": 22,
     "metadata": {},
     "output_type": "execute_result"
    }
   ],
   "source": [
    "%time clf.predict_proba(X_test)"
   ]
  },
  {
   "cell_type": "code",
   "execution_count": 23,
   "metadata": {},
   "outputs": [
    {
     "name": "stdout",
     "output_type": "stream",
     "text": [
      "CPU times: user 0 ns, sys: 0 ns, total: 0 ns\n",
      "Wall time: 1.15 ms\n"
     ]
    },
    {
     "data": {
      "text/plain": [
       "array([[0., 1., 0.],\n",
       "       [1., 0., 0.],\n",
       "       [0., 0., 1.],\n",
       "       [0., 0., 1.],\n",
       "       [1., 0., 0.],\n",
       "       [0., 1., 0.],\n",
       "       [1., 0., 0.],\n",
       "       [0., 1., 0.],\n",
       "       [0., 1., 0.],\n",
       "       [1., 0., 0.],\n",
       "       [1., 0., 0.],\n",
       "       [0., 0., 1.],\n",
       "       [0., 1., 0.],\n",
       "       [0., 1., 0.],\n",
       "       [0., 0., 1.]])"
      ]
     },
     "execution_count": 23,
     "metadata": {},
     "output_type": "execute_result"
    }
   ],
   "source": [
    "%time my_clf.predict_proba(X_test)"
   ]
  },
  {
   "cell_type": "code",
   "execution_count": 24,
   "metadata": {},
   "outputs": [],
   "source": [
    "assert abs(my_clf.score(X_test, y_test) - clf.score(X_test,y_test))<0.005, \"Score must be simillar\""
   ]
  },
  {
   "cell_type": "markdown",
   "metadata": {},
   "source": [
    "**Задание 4 (2.5 балла)**\n",
    "\n",
    "Рассмотрим новый датасет 20 newsgroups"
   ]
  },
  {
   "cell_type": "code",
   "execution_count": 25,
   "metadata": {},
   "outputs": [],
   "source": [
    "newsgroups = fetch_20newsgroups(subset='train',remove=['headers','footers', 'quotes'])"
   ]
  },
  {
   "cell_type": "code",
   "execution_count": 26,
   "metadata": {},
   "outputs": [],
   "source": [
    "data = newsgroups['data']\n",
    "target = newsgroups['target']"
   ]
  },
  {
   "cell_type": "markdown",
   "metadata": {},
   "source": [
    "Переведите во всех документах все буквы в нижний регистр и замените во всех документах символы, не\n",
    "являющиеся буквами и цифрами, на пробелы. Далее разбейте текста по пробельным символам на токены(термы/слова). Удалите текста, содержащие только пробелы."
   ]
  },
  {
   "cell_type": "code",
   "execution_count": 27,
   "metadata": {},
   "outputs": [],
   "source": [
    "import re\n",
    "data_tok = list()\n",
    "data_2 = list()\n",
    "data_1 = list()\n",
    "#data_tok =  #realize here\n",
    "# data_tok should be a list of lists of tokens for each line in data.\n",
    "for i in range (len(data)):\n",
    "    data_1.append(re.sub('\\s+', ' ', (re.sub(r\"[^A-Za-z0-9\\s]+\", ' ', data[i].lower()))))\n",
    "    data_2.append(re.sub('\\s+',' ',data_1[i]))\n",
    "for i in range (len(data_2)):\n",
    "    data_2[i] = list(filter(None, re.split('\\W', data_2[i])))\n",
    "    #if data_2[i]: (с этим условием не будет ругаться последняя строчка в следующем блоке,\n",
    "    #но размер data_tok уменьшится с 11304 до 11004)\n",
    "    data_tok.append(data_2[i])"
   ]
  },
  {
   "cell_type": "code",
   "execution_count": 28,
   "metadata": {},
   "outputs": [
    {
     "data": {
      "text/plain": [
       "11314"
      ]
     },
     "execution_count": 28,
     "metadata": {},
     "output_type": "execute_result"
    }
   ],
   "source": [
    "len(data_tok)"
   ]
  },
  {
   "cell_type": "code",
   "execution_count": 29,
   "metadata": {},
   "outputs": [],
   "source": [
    "assert all(isinstance(row, (list, tuple)) for row in data_tok), \"please convert each line into a list of tokens (strings)\"\n",
    "assert all(all(isinstance(tok, str) for tok in row) for row in data_tok), \"please convert each line into a list of tokens (strings)\"\n",
    "is_latin = lambda tok: all('a' <= x.lower() <= 'z' for x in tok)\n",
    "#assert all(map(lambda l: not is_latin(l) or l.islower() , map(' '.join, data_tok))), \"please make sure that you lowercase the data and drop spaced texts\""
   ]
  },
  {
   "cell_type": "markdown",
   "metadata": {},
   "source": [
    "Преобразуйте датасет в разреженную матрицу scipy.sparse.csr_matrix, где значение x в позиции (i, j)\n",
    "означает, что в документе i слово j встретилось x раз"
   ]
  },
  {
   "cell_type": "code",
   "execution_count": 30,
   "metadata": {},
   "outputs": [],
   "source": [
    "words = set(data_tok[0])\n",
    "for i in range (1, len(data_tok)):\n",
    "    words = set.union(words,set(data_tok[i]))"
   ]
  },
  {
   "cell_type": "code",
   "execution_count": 31,
   "metadata": {},
   "outputs": [],
   "source": [
    "dictionary = dict.fromkeys(list(words))\n",
    "dictionary = dict([*zip(dictionary.keys(),range(len(words)))])"
   ]
  },
  {
   "cell_type": "code",
   "execution_count": 32,
   "metadata": {},
   "outputs": [
    {
     "data": {
      "text/plain": [
       "{'grabserver': 0,\n",
       " 'f6k': 1,\n",
       " 'devon': 2,\n",
       " 'acgi6f': 3,\n",
       " 'relays': 4,\n",
       " 'mpb9': 5,\n",
       " 'efficacy': 6,\n",
       " '712': 7,\n",
       " 'ke': 8,\n",
       " '1zc': 9,\n",
       " 'york': 10,\n",
       " 'meditates': 11,\n",
       " 'acoustic': 12,\n",
       " 'language': 13,\n",
       " 'm81': 14,\n",
       " 'galvanizing': 15,\n",
       " 'yyx': 16,\n",
       " 'mvqn': 17,\n",
       " 'ohstpy': 18,\n",
       " 'dying': 19,\n",
       " 'magowan': 20,\n",
       " 'siren': 21,\n",
       " 'sinusitis': 22,\n",
       " 'jznb': 23,\n",
       " 'thrid': 24,\n",
       " 'typewriters': 25,\n",
       " 'uf52': 26,\n",
       " 'junkyard': 27,\n",
       " 'ocw': 28,\n",
       " 'n2q': 29,\n",
       " 'antialiasing': 30,\n",
       " 'splitfire': 31,\n",
       " 'multiples': 32,\n",
       " 'h11': 33,\n",
       " '362': 34,\n",
       " 'heinbokel': 35,\n",
       " 'qq3s': 36,\n",
       " 'v4i654b': 37,\n",
       " 'spouses': 38,\n",
       " '26wc4': 39,\n",
       " 'videotapes': 40,\n",
       " 'endowment': 41,\n",
       " 'cleans': 42,\n",
       " 'possessors': 43,\n",
       " 'txr3o': 44,\n",
       " 'bodied': 45,\n",
       " 'infill': 46,\n",
       " 'ozolinsh': 47,\n",
       " 'cb05nn': 48,\n",
       " 'xtool': 49,\n",
       " 'comptest': 50,\n",
       " '8ewd5hn7': 51,\n",
       " 'a941nyu': 52,\n",
       " 'gmi': 53,\n",
       " 'motivates': 54,\n",
       " 'brute': 55,\n",
       " '71t3qsw44': 56,\n",
       " 'y6': 57,\n",
       " 'sweeter': 58,\n",
       " 'po8u': 59,\n",
       " 'nephi': 60,\n",
       " 'khinchin': 61,\n",
       " '0vkjzl': 62,\n",
       " 'reactions': 63,\n",
       " 'qvdo': 64,\n",
       " 'byo': 65,\n",
       " '749p': 66,\n",
       " 'matthey': 67,\n",
       " '9f9f9f9f9f9f0': 68,\n",
       " '75uj9z': 69,\n",
       " 'wg2t5t0': 70,\n",
       " 'nodak': 71,\n",
       " 'persisted': 72,\n",
       " '8200': 73,\n",
       " 'csci': 74,\n",
       " 'bzzzt': 75,\n",
       " '19f': 76,\n",
       " '94nq': 77,\n",
       " 'childhood': 78,\n",
       " 'evaporated': 79,\n",
       " 'izvestia': 80,\n",
       " 'doers': 81,\n",
       " 'se1': 82,\n",
       " '1bp3': 83,\n",
       " 'claimed': 84,\n",
       " 'dzz': 85,\n",
       " 'spevrgx0l': 86,\n",
       " 'a6mk7': 87,\n",
       " 'i2k6q': 88,\n",
       " 'skriko': 89,\n",
       " 'incremented': 90,\n",
       " '7ecg': 91,\n",
       " 'azer': 92,\n",
       " 'alleys': 93,\n",
       " 'named': 94,\n",
       " 'nontaxable': 95,\n",
       " '2627': 96,\n",
       " 'transitioning': 97,\n",
       " 'proved': 98,\n",
       " 'mbqet': 99,\n",
       " '5tow0': 100,\n",
       " '0v6p': 101,\n",
       " 'proprio': 102,\n",
       " 'sweeptake': 103,\n",
       " 'voggzvk': 104,\n",
       " 'baasis': 105,\n",
       " 'thinkingtiny': 106,\n",
       " 'horizontally': 107,\n",
       " 'faires': 108,\n",
       " 'm3x': 109,\n",
       " 'isr': 110,\n",
       " 'uk1': 111,\n",
       " 'slugger': 112,\n",
       " 'deja': 113,\n",
       " 'schalkoff': 114,\n",
       " 'weasels': 115,\n",
       " 'uj2': 116,\n",
       " 'secretaries': 117,\n",
       " 'u1f': 118,\n",
       " 'subsatellite': 119,\n",
       " 'spoils': 120,\n",
       " 'darren': 121,\n",
       " 'hierarchy': 122,\n",
       " 'planet': 123,\n",
       " 'haaaaaaaaaaave': 124,\n",
       " 'spas': 125,\n",
       " 'hiv': 126,\n",
       " 'slit': 127,\n",
       " 'beresford': 128,\n",
       " 'nieves': 129,\n",
       " 'mxwn': 130,\n",
       " 'dib': 131,\n",
       " 'pclhrsg6pf2eiymc4ris60efp': 132,\n",
       " 'xlnth': 133,\n",
       " 'i07n': 134,\n",
       " 'ritual': 135,\n",
       " '87fr': 136,\n",
       " 'stathead': 137,\n",
       " '2886x4r': 138,\n",
       " 'xsession': 139,\n",
       " 'burgh': 140,\n",
       " 'hmlt9': 141,\n",
       " 'm29p2b': 142,\n",
       " '3iiqshzd6dzd3j1': 143,\n",
       " 'humbled': 144,\n",
       " 'kaufbeuren': 145,\n",
       " 'woc24e': 146,\n",
       " 'alchemy': 147,\n",
       " 'assimilated': 148,\n",
       " 'preference': 149,\n",
       " 'xf': 150,\n",
       " 'autographs': 151,\n",
       " 'interection': 152,\n",
       " 'mj0': 153,\n",
       " 'gunnar': 154,\n",
       " 'redecorate': 155,\n",
       " 'chzqvf': 156,\n",
       " 'securing': 157,\n",
       " 'sorehand': 158,\n",
       " 'zvwk145mq45k145': 159,\n",
       " 'centerpiece': 160,\n",
       " 'xtappgeterrordatabasetext': 161,\n",
       " '3eltn0': 162,\n",
       " 'kludgy': 163,\n",
       " 'obeying': 164,\n",
       " 'maarten': 165,\n",
       " 'openvms': 166,\n",
       " 'handelap': 167,\n",
       " 'indication': 168,\n",
       " 'boranni': 169,\n",
       " 'x0j': 170,\n",
       " 'xi8bc': 171,\n",
       " '6w8rmc': 172,\n",
       " 'jubilee': 173,\n",
       " 'mpo': 174,\n",
       " 'dbi': 175,\n",
       " 'daisy': 176,\n",
       " 'poersupply': 177,\n",
       " 'ou3s': 178,\n",
       " 'computerized': 179,\n",
       " 'reskinned': 180,\n",
       " 'probable': 181,\n",
       " 'smashers': 182,\n",
       " 'boycotted': 183,\n",
       " 'inflict': 184,\n",
       " 'josie': 185,\n",
       " 'microbiologist': 186,\n",
       " 'buns': 187,\n",
       " '1453': 188,\n",
       " 't3000h': 189,\n",
       " 'dqbr9': 190,\n",
       " '6980': 191,\n",
       " 'hotheaded': 192,\n",
       " 'tommorrow': 193,\n",
       " '5412': 194,\n",
       " 'obro': 195,\n",
       " 'sinden': 196,\n",
       " 'humankind': 197,\n",
       " '9tl': 198,\n",
       " 'fess': 199,\n",
       " 'xtmw': 200,\n",
       " 'me5': 201,\n",
       " 'teel': 202,\n",
       " 'bed': 203,\n",
       " 'mbmj': 204,\n",
       " 'jpalmer': 205,\n",
       " 'maq046um': 206,\n",
       " '400s': 207,\n",
       " 'nh9p3n': 208,\n",
       " 'ef5o': 209,\n",
       " 'yn1': 210,\n",
       " 'erzurum': 211,\n",
       " '2nkjz': 212,\n",
       " 'aut7': 213,\n",
       " 'gz5': 214,\n",
       " 'nf9lvs': 215,\n",
       " 'soundcard': 216,\n",
       " 'tranny': 217,\n",
       " 'abominations': 218,\n",
       " 'nys': 219,\n",
       " 'solidity': 220,\n",
       " 'criticisms': 221,\n",
       " 'mashao': 222,\n",
       " 'wicked': 223,\n",
       " 'consititutional': 224,\n",
       " '2k2': 225,\n",
       " 'mcmillan': 226,\n",
       " 'poorly': 227,\n",
       " 'transformerless': 228,\n",
       " 'op1': 229,\n",
       " 'liturgomaniac': 230,\n",
       " 'ten': 231,\n",
       " 'hockey': 232,\n",
       " 'readiness': 233,\n",
       " '2jy7': 234,\n",
       " 'kb4': 235,\n",
       " 'chod9': 236,\n",
       " 'discriminatee': 237,\n",
       " 'dogreen': 238,\n",
       " 'zbjqbq': 239,\n",
       " 'operator': 240,\n",
       " 'vo': 241,\n",
       " 'baseband': 242,\n",
       " 'folder': 243,\n",
       " 'rintintin': 244,\n",
       " 'sadducees': 245,\n",
       " 'kery': 246,\n",
       " 'd6wvsx': 247,\n",
       " '9f3v9f9f9f3w2tg': 248,\n",
       " 'squeezable': 249,\n",
       " 'semd': 250,\n",
       " 'f9f9f9f9f3t': 251,\n",
       " 'glorious': 252,\n",
       " 'lang': 253,\n",
       " 'klass': 254,\n",
       " 'cowards': 255,\n",
       " 'hitr': 256,\n",
       " 'bg6e': 257,\n",
       " 'spacial': 258,\n",
       " 'xtoverridetranslations': 259,\n",
       " '6w5uy': 260,\n",
       " 'continuation': 261,\n",
       " 'nikkor': 262,\n",
       " 'uno': 263,\n",
       " 'ncos': 264,\n",
       " 'troglodytism': 265,\n",
       " 'monocrome': 266,\n",
       " 'id3k': 267,\n",
       " 'dirtbikes': 268,\n",
       " 'housekeeping': 269,\n",
       " 'immoralities': 270,\n",
       " 'modernize': 271,\n",
       " 'iaea': 272,\n",
       " 'intermission': 273,\n",
       " 'usable': 274,\n",
       " 'c555555555555555l': 275,\n",
       " 'rhoepnol': 276,\n",
       " '90x8459': 277,\n",
       " 'mailing': 278,\n",
       " 'hants': 279,\n",
       " 'cxx5': 280,\n",
       " 'fuselage': 281,\n",
       " 'spares': 282,\n",
       " 'smashing': 283,\n",
       " 'responsbible': 284,\n",
       " 'zvn50': 285,\n",
       " 'byzantine': 286,\n",
       " 'garcia': 287,\n",
       " 'mfij': 288,\n",
       " 'forehand': 289,\n",
       " 'spectre': 290,\n",
       " 'rescheduled': 291,\n",
       " 'kmw': 292,\n",
       " 'tis': 293,\n",
       " 'x9iqsj1': 294,\n",
       " '157': 295,\n",
       " '3ma': 296,\n",
       " 'fervour': 297,\n",
       " 'dove': 298,\n",
       " 'nonintrusive': 299,\n",
       " 'expendable': 300,\n",
       " 'ya7w89': 301,\n",
       " 'rlb9r': 302,\n",
       " 'mct': 303,\n",
       " 'oberg': 304,\n",
       " 'aero': 305,\n",
       " 'parts': 306,\n",
       " 'rival': 307,\n",
       " 'stand': 308,\n",
       " 'yak': 309,\n",
       " 'pursued': 310,\n",
       " 'afghan': 311,\n",
       " 'adsr': 312,\n",
       " 'corrective': 313,\n",
       " 'disarmament': 314,\n",
       " '9781bmu': 315,\n",
       " 'away': 316,\n",
       " 'keefe': 317,\n",
       " 'mussina': 318,\n",
       " '74ls': 319,\n",
       " 'g3ck': 320,\n",
       " 'unsecured': 321,\n",
       " 'qnh1': 322,\n",
       " 'arbab': 323,\n",
       " '5st3p': 324,\n",
       " 'fvn8bd': 325,\n",
       " '5bm': 326,\n",
       " 'passsover': 327,\n",
       " 'yk': 328,\n",
       " 'reprimanded': 329,\n",
       " 'udp': 330,\n",
       " 'ruotsaleinen': 331,\n",
       " 'juergen': 332,\n",
       " 'chown': 333,\n",
       " 'miscarriages': 334,\n",
       " '41vank': 335,\n",
       " 'xbms': 336,\n",
       " 'md2': 337,\n",
       " 'tul': 338,\n",
       " 'syty': 339,\n",
       " 'f9f9f9f9f3w2tm': 340,\n",
       " 'difficulty': 341,\n",
       " 'vak12ed': 342,\n",
       " 'typingtutor': 343,\n",
       " 'sysop': 344,\n",
       " 'simm': 345,\n",
       " 'carolyn': 346,\n",
       " 'peculiar': 347,\n",
       " 'criminally': 348,\n",
       " 'slug': 349,\n",
       " 'characterised': 350,\n",
       " 'correspon': 351,\n",
       " 'boids': 352,\n",
       " 'achzrlj1': 353,\n",
       " '2hj': 354,\n",
       " 'm5e96': 355,\n",
       " 'awp': 356,\n",
       " 'visnu': 357,\n",
       " '4581': 358,\n",
       " 'inapplicable': 359,\n",
       " '42211': 360,\n",
       " 'f12': 361,\n",
       " 'pyman': 362,\n",
       " 'uok': 363,\n",
       " 'stratomatic': 364,\n",
       " 'unsymmetrical': 365,\n",
       " 'warheads': 366,\n",
       " 'gloss': 367,\n",
       " 'shocking': 368,\n",
       " 'goring': 369,\n",
       " 'ew5': 370,\n",
       " 'canopus': 371,\n",
       " 'agnostics': 372,\n",
       " 'owens': 373,\n",
       " 'squids': 374,\n",
       " 'banked': 375,\n",
       " 'mgl': 376,\n",
       " 'incredible': 377,\n",
       " 'zzneu': 378,\n",
       " 'superimposed': 379,\n",
       " 'quarrels': 380,\n",
       " 'nations': 381,\n",
       " 'gvg': 382,\n",
       " 'nnhlc': 383,\n",
       " 'loc': 384,\n",
       " 'sareshoon': 385,\n",
       " '4s5': 386,\n",
       " 'wri': 387,\n",
       " 'mig': 388,\n",
       " 'anyhow': 389,\n",
       " 'phelps': 390,\n",
       " 'similiar': 391,\n",
       " 'id6eiq': 392,\n",
       " 'concludes': 393,\n",
       " '6j33nn': 394,\n",
       " 'greenbelt': 395,\n",
       " '7953': 396,\n",
       " 'xquerycolor': 397,\n",
       " 'morian': 398,\n",
       " 'medw1': 399,\n",
       " '24xjdbnsu': 400,\n",
       " 'anthony': 401,\n",
       " 'evaluating': 402,\n",
       " 'lt7': 403,\n",
       " 'q1q': 404,\n",
       " 'archeological': 405,\n",
       " 'someones': 406,\n",
       " 'peacenet': 407,\n",
       " 'ch4q': 408,\n",
       " 'h8rz5': 409,\n",
       " 'unger': 410,\n",
       " 'lestat': 411,\n",
       " 'comparable': 412,\n",
       " 'rmzur': 413,\n",
       " 'pesdy': 414,\n",
       " 'a83n': 415,\n",
       " 'mensa': 416,\n",
       " 'hacihan': 417,\n",
       " 'ceres': 418,\n",
       " '1mkz': 419,\n",
       " 'w287': 420,\n",
       " 'gulsum': 421,\n",
       " '6581': 422,\n",
       " 'hasbani': 423,\n",
       " 'duplicating': 424,\n",
       " 'vxo': 425,\n",
       " 'xtnewstring': 426,\n",
       " 'hws8': 427,\n",
       " 'istead': 428,\n",
       " 'weitz': 429,\n",
       " 'messick': 430,\n",
       " 'tiawanese': 431,\n",
       " '2550': 432,\n",
       " 'bussard': 433,\n",
       " 'tenebrae': 434,\n",
       " '2t5': 435,\n",
       " 'parabolic': 436,\n",
       " 'denizenly': 437,\n",
       " '3ax': 438,\n",
       " 'theorem': 439,\n",
       " 'weis': 440,\n",
       " 'create': 441,\n",
       " 'uptade': 442,\n",
       " 'cyj': 443,\n",
       " 'moniker': 444,\n",
       " 'ubmpqs': 445,\n",
       " 'hazard': 446,\n",
       " 'st1111a': 447,\n",
       " 'y0a': 448,\n",
       " 'swede': 449,\n",
       " 'idare': 450,\n",
       " 'theophilus': 451,\n",
       " 'websters': 452,\n",
       " '29': 453,\n",
       " 'drags': 454,\n",
       " 'minding': 455,\n",
       " 'spluttering': 456,\n",
       " 'microtoxin': 457,\n",
       " 'noordewier': 458,\n",
       " 'gnzi': 459,\n",
       " 'ljunggren': 460,\n",
       " 'v31': 461,\n",
       " 'lr7': 462,\n",
       " 'rooting': 463,\n",
       " 'yearwood': 464,\n",
       " 'fhy': 465,\n",
       " '7s6t': 466,\n",
       " 'altar': 467,\n",
       " 'o1zxo': 468,\n",
       " 'vzb': 469,\n",
       " 'w1w471w45': 470,\n",
       " '08540': 471,\n",
       " 'jznl': 472,\n",
       " 'oes': 473,\n",
       " 'shielded': 474,\n",
       " 'velcro': 475,\n",
       " 'imfvvzfm9': 476,\n",
       " '43tb': 477,\n",
       " 'condesending': 478,\n",
       " 'headlights': 479,\n",
       " '4ilo': 480,\n",
       " 'm50': 481,\n",
       " 'murdered': 482,\n",
       " 'rasulov': 483,\n",
       " 'internetworking': 484,\n",
       " '320i': 485,\n",
       " 'funniest': 486,\n",
       " '7720435': 487,\n",
       " 'picard': 488,\n",
       " '39n': 489,\n",
       " 'i9xha': 490,\n",
       " '2f33enh': 491,\n",
       " 'debunk': 492,\n",
       " 'loustau': 493,\n",
       " 'nosodes': 494,\n",
       " 'schwan': 495,\n",
       " 'regardie': 496,\n",
       " 'mcilp': 497,\n",
       " 'muessen': 498,\n",
       " 'notation': 499,\n",
       " 'posse': 500,\n",
       " 'torso': 501,\n",
       " 'coredump': 502,\n",
       " 'unaccepting': 503,\n",
       " 'thumping': 504,\n",
       " 'bazian': 505,\n",
       " 'zset': 506,\n",
       " 'cider': 507,\n",
       " 'vas': 508,\n",
       " 'limmiting': 509,\n",
       " 'instrument': 510,\n",
       " 'pivbudk': 511,\n",
       " 'ui7c': 512,\n",
       " 'mvt2': 513,\n",
       " 'cable': 514,\n",
       " 'unprecedented': 515,\n",
       " 'cate': 516,\n",
       " 'vkf3': 517,\n",
       " 'distorteddata': 518,\n",
       " 'tatyana': 519,\n",
       " 'romantic': 520,\n",
       " 'bmws': 521,\n",
       " 'bm0w': 522,\n",
       " 'xw5eqefyjlkh': 523,\n",
       " 'reguarding': 524,\n",
       " 'carburator': 525,\n",
       " 'nibar': 526,\n",
       " 's13q': 527,\n",
       " 'attitute': 528,\n",
       " '8d8': 529,\n",
       " 'compunction': 530,\n",
       " 'zx': 531,\n",
       " '49546': 532,\n",
       " 'ntheta2': 533,\n",
       " 'mhfjfvk': 534,\n",
       " 'fuller': 535,\n",
       " '4944': 536,\n",
       " 'atb': 537,\n",
       " 'rtheta': 538,\n",
       " 'q5l': 539,\n",
       " 'catbox': 540,\n",
       " 'stolen': 541,\n",
       " 'gy': 542,\n",
       " 'wishy': 543,\n",
       " 'hospitable': 544,\n",
       " 'wrappers': 545,\n",
       " 'mtx5': 546,\n",
       " 'perijove': 547,\n",
       " '301': 548,\n",
       " 'mff3qkbpuowtu': 549,\n",
       " 'amin': 550,\n",
       " '85mm': 551,\n",
       " 'syslibs': 552,\n",
       " 'bxz': 553,\n",
       " 'gopath': 554,\n",
       " 'landy': 555,\n",
       " 'affff': 556,\n",
       " 'mcgraw': 557,\n",
       " 'sayles': 558,\n",
       " '1471t': 559,\n",
       " '27470': 560,\n",
       " 'entities': 561,\n",
       " '1jr': 562,\n",
       " 'fpupp': 563,\n",
       " 'mt32': 564,\n",
       " 'xwid': 565,\n",
       " 'pajz': 566,\n",
       " 'prevail': 567,\n",
       " '41p5q197a': 568,\n",
       " 'wielder': 569,\n",
       " 'thostle': 570,\n",
       " 'sustainers': 571,\n",
       " 'getters': 572,\n",
       " 'reseller': 573,\n",
       " 'defenders': 574,\n",
       " 'pihei9': 575,\n",
       " 'welltris': 576,\n",
       " 'warped': 577,\n",
       " 'klein': 578,\n",
       " 'holdouts': 579,\n",
       " 'poisoning': 580,\n",
       " 'libanon': 581,\n",
       " 'leading': 582,\n",
       " 'elucidate': 583,\n",
       " '6tmuv': 584,\n",
       " 'k4bat': 585,\n",
       " 'bezts': 586,\n",
       " 'keratoses': 587,\n",
       " 'converging': 588,\n",
       " 'mkhnya': 589,\n",
       " 'converse': 590,\n",
       " 'persident': 591,\n",
       " 'evr': 592,\n",
       " 'gt': 593,\n",
       " 'mt85ww871a': 594,\n",
       " '313': 595,\n",
       " 'saver': 596,\n",
       " 'g9v4ee9': 597,\n",
       " 'doll': 598,\n",
       " '9h7y': 599,\n",
       " 'fz9by': 600,\n",
       " '48l': 601,\n",
       " 'kimmo': 602,\n",
       " '430b': 603,\n",
       " 'treason': 604,\n",
       " 'n4tmi': 605,\n",
       " 'candles': 606,\n",
       " 'xtnaccelerators': 607,\n",
       " '45c': 608,\n",
       " '1g2f0': 609,\n",
       " 'paradisal': 610,\n",
       " 'kulikowski': 611,\n",
       " '3hzrmc': 612,\n",
       " 'ncga': 613,\n",
       " 'vice': 614,\n",
       " '60pz': 615,\n",
       " 'toucheds': 616,\n",
       " 'nevznahflb9rnkir': 617,\n",
       " 'det': 618,\n",
       " 'stills': 619,\n",
       " '8513': 620,\n",
       " '1160': 621,\n",
       " 'zvri': 622,\n",
       " '00101101b': 623,\n",
       " 'dispelling': 624,\n",
       " 'swami': 625,\n",
       " 'rebuked': 626,\n",
       " 'wn': 627,\n",
       " '3uo': 628,\n",
       " 'xored': 629,\n",
       " 'oaw': 630,\n",
       " 'wov': 631,\n",
       " 'cocktails': 632,\n",
       " 'contraception': 633,\n",
       " 'mahabharata': 634,\n",
       " 'deelnemen': 635,\n",
       " 'lambeck': 636,\n",
       " '90vanagon': 637,\n",
       " 'jdj': 638,\n",
       " '5wy80': 639,\n",
       " 'chagrin': 640,\n",
       " 'x8zd3hzad': 641,\n",
       " 'uaf': 642,\n",
       " '2xa': 643,\n",
       " 'backdoor': 644,\n",
       " 'jarthur': 645,\n",
       " '35025': 646,\n",
       " 'yjanih1r': 647,\n",
       " 'j6eg': 648,\n",
       " '934041': 649,\n",
       " 'contraire': 650,\n",
       " 'obstructing': 651,\n",
       " 'rapsheet': 652,\n",
       " 'zorastrian': 653,\n",
       " 'deposits': 654,\n",
       " 'groundbreaking': 655,\n",
       " '1821': 656,\n",
       " '753': 657,\n",
       " 'mauritius': 658,\n",
       " 'kz958': 659,\n",
       " 'wwt': 660,\n",
       " 'dsrsu': 661,\n",
       " 'rslwq': 662,\n",
       " 'n9r': 663,\n",
       " '22u': 664,\n",
       " 'preserve': 665,\n",
       " '50y': 666,\n",
       " '8336': 667,\n",
       " 'c287c0': 668,\n",
       " 'supercedes': 669,\n",
       " 'loraas': 670,\n",
       " 'banish': 671,\n",
       " 'rkb': 672,\n",
       " 'daglari': 673,\n",
       " 'dozing': 674,\n",
       " '7exj': 675,\n",
       " 'ufy': 676,\n",
       " 'opinnions': 677,\n",
       " 'sejr': 678,\n",
       " 'bqn': 679,\n",
       " 'sterrenkunde': 680,\n",
       " 'ashmf4': 681,\n",
       " 'concesions': 682,\n",
       " 'benjamin': 683,\n",
       " 'provided': 684,\n",
       " 'tikkanen': 685,\n",
       " 'yw0t': 686,\n",
       " 'bigs': 687,\n",
       " 'next': 688,\n",
       " 'umontreal': 689,\n",
       " 'restitution': 690,\n",
       " 'pmvc': 691,\n",
       " 'polgyons': 692,\n",
       " 'prego': 693,\n",
       " 'tonia': 694,\n",
       " 'gaze': 695,\n",
       " '6v': 696,\n",
       " 'allotted': 697,\n",
       " 'heinz': 698,\n",
       " 'continuoustelepointer': 699,\n",
       " 'oohing': 700,\n",
       " 'doskey': 701,\n",
       " 'magu': 702,\n",
       " 'punjab': 703,\n",
       " 'cpatil': 704,\n",
       " '3ee': 705,\n",
       " 'teltone': 706,\n",
       " 'insisting': 707,\n",
       " 'interviewer': 708,\n",
       " '1n': 709,\n",
       " 'futon': 710,\n",
       " 'oveiqy': 711,\n",
       " 'xftslj': 712,\n",
       " 'bohor': 713,\n",
       " 'minimmize': 714,\n",
       " 'j2lk': 715,\n",
       " 'decut': 716,\n",
       " 'dufresne': 717,\n",
       " 'chan': 718,\n",
       " '5l34t2': 719,\n",
       " 'segregation': 720,\n",
       " '72t': 721,\n",
       " 'tuna': 722,\n",
       " 'b0df': 723,\n",
       " 'clearasil': 724,\n",
       " 'basic': 725,\n",
       " 'z9bwa': 726,\n",
       " 'otistuff': 727,\n",
       " 'um1': 728,\n",
       " 'reproach': 729,\n",
       " 'cyphers': 730,\n",
       " 'pubinfo': 731,\n",
       " 'dmarble': 732,\n",
       " '20a': 733,\n",
       " 'elsa': 734,\n",
       " 'bris': 735,\n",
       " 'qtm': 736,\n",
       " 'cryptech': 737,\n",
       " 'tl1mm': 738,\n",
       " 'laxness': 739,\n",
       " '4z7': 740,\n",
       " '9yd': 741,\n",
       " 'hostilities': 742,\n",
       " 'xlqs6': 743,\n",
       " 'frolic': 744,\n",
       " 'xoutput': 745,\n",
       " 'commanding': 746,\n",
       " 'lowers': 747,\n",
       " '6nfi': 748,\n",
       " 'shall': 749,\n",
       " 'ibvu2': 750,\n",
       " 'incrimination': 751,\n",
       " 'dedication': 752,\n",
       " 'brsmith': 753,\n",
       " 'predicted': 754,\n",
       " 'debrusk': 755,\n",
       " 'selisrmc8v': 756,\n",
       " 'spidey': 757,\n",
       " 'beryl': 758,\n",
       " 'm4h2': 759,\n",
       " 'bj': 760,\n",
       " 'ed78': 761,\n",
       " 'ax65p2': 762,\n",
       " 'sentient': 763,\n",
       " 'institutes': 764,\n",
       " 'affiars': 765,\n",
       " 'mceq': 766,\n",
       " 'popelka': 767,\n",
       " 'makeh': 768,\n",
       " 'merkle': 769,\n",
       " 'jill': 770,\n",
       " 'twenty': 771,\n",
       " 'ntwc': 772,\n",
       " 'reaffirm': 773,\n",
       " 'x0i': 774,\n",
       " 'upgrage': 775,\n",
       " 'g46v': 776,\n",
       " 'a13x': 777,\n",
       " 'narcotics': 778,\n",
       " 'yusuf': 779,\n",
       " 'touching': 780,\n",
       " 'magpie': 781,\n",
       " '26j33n': 782,\n",
       " 'qs4': 783,\n",
       " 'fetish': 784,\n",
       " 'nightly': 785,\n",
       " 'backward': 786,\n",
       " 'p7ipd3': 787,\n",
       " 'belenson': 788,\n",
       " 'oftimes': 789,\n",
       " '9gi': 790,\n",
       " 'xalloccolorcells': 791,\n",
       " 'certain': 792,\n",
       " 'crushing': 793,\n",
       " 'rni': 794,\n",
       " 'pbx': 795,\n",
       " 'lamentation': 796,\n",
       " 'volume10': 797,\n",
       " '100c': 798,\n",
       " '120meg': 799,\n",
       " 'acc': 800,\n",
       " 'bgsu': 801,\n",
       " '1776': 802,\n",
       " 'switchboard': 803,\n",
       " '2plos6': 804,\n",
       " 'abscence': 805,\n",
       " '99ns9': 806,\n",
       " 'amassed': 807,\n",
       " 'm8f': 808,\n",
       " 'gripping': 809,\n",
       " 'shz08': 810,\n",
       " 'alocohol': 811,\n",
       " 'nmw': 812,\n",
       " 'beilief': 813,\n",
       " 'mom': 814,\n",
       " 'nin15b34': 815,\n",
       " '0azojt': 816,\n",
       " 'panties': 817,\n",
       " 'kyv': 818,\n",
       " 'tea': 819,\n",
       " 'aw83o': 820,\n",
       " '1516': 821,\n",
       " 'siecle': 822,\n",
       " 'costas': 823,\n",
       " 'vegr': 824,\n",
       " 'iberian': 825,\n",
       " 'arm': 826,\n",
       " 'washes': 827,\n",
       " 'symmetric': 828,\n",
       " 'immune': 829,\n",
       " 'examples': 830,\n",
       " 'motoring': 831,\n",
       " 'prb': 832,\n",
       " 'defrag': 833,\n",
       " 'sift': 834,\n",
       " 'afal': 835,\n",
       " 'alleviates': 836,\n",
       " 'dilmore': 837,\n",
       " 'themes': 838,\n",
       " 'mappingnotify': 839,\n",
       " 'hun': 840,\n",
       " 'wu2': 841,\n",
       " 'needing': 842,\n",
       " 'smc': 843,\n",
       " 'cpf': 844,\n",
       " '5e965f54g9v': 845,\n",
       " 'kotrb': 846,\n",
       " 'rk16w3': 847,\n",
       " 'buds': 848,\n",
       " 't07mp': 849,\n",
       " 'dmorph': 850,\n",
       " 'jqlxn': 851,\n",
       " 'wrongdoings': 852,\n",
       " '52z': 853,\n",
       " 'azarbaijan': 854,\n",
       " 'normaly': 855,\n",
       " 'glycemic': 856,\n",
       " 'foreknowledge': 857,\n",
       " 'motorweek': 858,\n",
       " 'devallano': 859,\n",
       " 'synching': 860,\n",
       " '5md': 861,\n",
       " 'lazar': 862,\n",
       " 'replicating': 863,\n",
       " '1v38v': 864,\n",
       " '7p9': 865,\n",
       " 'm66': 866,\n",
       " 'distributes': 867,\n",
       " 'diarrhea': 868,\n",
       " 'translab': 869,\n",
       " 'applets': 870,\n",
       " 'p3nn': 871,\n",
       " 'browsable': 872,\n",
       " 'srmam': 873,\n",
       " 'callers': 874,\n",
       " 'zholtok': 875,\n",
       " 'berg': 876,\n",
       " 'megabits': 877,\n",
       " 'unbeautiful': 878,\n",
       " 'bhq': 879,\n",
       " 'inculpate': 880,\n",
       " '1524': 881,\n",
       " 'omhmvaaj': 882,\n",
       " 'tcs': 883,\n",
       " 'customaryprofitmargin': 884,\n",
       " '5th': 885,\n",
       " 'virta': 886,\n",
       " 'xgizij': 887,\n",
       " '1942': 888,\n",
       " 'jvc': 889,\n",
       " 'foolin': 890,\n",
       " 'foxvog': 891,\n",
       " 'ossibly': 892,\n",
       " 'uwm': 893,\n",
       " 'indoor': 894,\n",
       " '7gn': 895,\n",
       " 'mnbq': 896,\n",
       " 'mdw': 897,\n",
       " 'idols': 898,\n",
       " 'barons': 899,\n",
       " 'wimp': 900,\n",
       " 'jmartin': 901,\n",
       " 'neutrinos': 902,\n",
       " 'keller': 903,\n",
       " 'ascially': 904,\n",
       " 'deepest': 905,\n",
       " 'muc': 906,\n",
       " 'flung': 907,\n",
       " 'c9': 908,\n",
       " 'qtid': 909,\n",
       " 'piped': 910,\n",
       " 'gladius': 911,\n",
       " '241113': 912,\n",
       " 'e75u': 913,\n",
       " 'speedware': 914,\n",
       " 'apparent': 915,\n",
       " 'bandits': 916,\n",
       " 'nextconnection': 917,\n",
       " '6w8rg': 918,\n",
       " 'crush': 919,\n",
       " 'beretta': 920,\n",
       " 'spinning': 921,\n",
       " 'imitation': 922,\n",
       " 'mrmamrcimrlim': 923,\n",
       " 'ro3088a': 924,\n",
       " 'wx2': 925,\n",
       " 'optimizers': 926,\n",
       " 'celluloid': 927,\n",
       " 'p12': 928,\n",
       " 'hqx': 929,\n",
       " 'exercendis': 930,\n",
       " 'rarety': 931,\n",
       " 'nother': 932,\n",
       " 'tzh': 933,\n",
       " 'wy1da': 934,\n",
       " 'stuffed': 935,\n",
       " 'ghod': 936,\n",
       " 'fpj': 937,\n",
       " 'misleading': 938,\n",
       " 'larussa': 939,\n",
       " 'nazarene': 940,\n",
       " 'competetors': 941,\n",
       " '5n': 942,\n",
       " 'scip': 943,\n",
       " 'r5': 944,\n",
       " 'deliveryman': 945,\n",
       " 'hcr': 946,\n",
       " 'encryption': 947,\n",
       " '0x6': 948,\n",
       " 'kurat': 949,\n",
       " 'guam': 950,\n",
       " 'squash': 951,\n",
       " 'dosshell': 952,\n",
       " 'kgbc': 953,\n",
       " 'binding': 954,\n",
       " '3yqv': 955,\n",
       " 'hy': 956,\n",
       " 'ordularinin': 957,\n",
       " 'louisa': 958,\n",
       " '630': 959,\n",
       " 'snorts': 960,\n",
       " '2923': 961,\n",
       " 'recalling': 962,\n",
       " 'soya': 963,\n",
       " 'beginer': 964,\n",
       " 'oncology': 965,\n",
       " 'natural': 966,\n",
       " 'secondly': 967,\n",
       " 'horus': 968,\n",
       " 'grywalski': 969,\n",
       " 'm0lw8': 970,\n",
       " 'steaminess': 971,\n",
       " 'lizhi': 972,\n",
       " 'xtisobject': 973,\n",
       " 'clunker': 974,\n",
       " '2a0du48': 975,\n",
       " 'fesibility': 976,\n",
       " '1795': 977,\n",
       " 'rc144dp': 978,\n",
       " 'joan': 979,\n",
       " 'reinscribed': 980,\n",
       " 'endif': 981,\n",
       " '4kqk': 982,\n",
       " '89id': 983,\n",
       " 'xf7h0aib': 984,\n",
       " 'nonsystematic': 985,\n",
       " '01111101': 986,\n",
       " 'koshy': 987,\n",
       " 'goyal': 988,\n",
       " 'rqr': 989,\n",
       " 'hv9f': 990,\n",
       " 't3q': 991,\n",
       " 'goc': 992,\n",
       " 'w3s1t': 993,\n",
       " '80c186eb': 994,\n",
       " '680040': 995,\n",
       " 'sawan': 996,\n",
       " 'championships': 997,\n",
       " 'lack': 998,\n",
       " '0u140w': 999,\n",
       " ...}"
      ]
     },
     "execution_count": 32,
     "metadata": {},
     "output_type": "execute_result"
    }
   ],
   "source": [
    "dictionary"
   ]
  },
  {
   "cell_type": "code",
   "execution_count": 33,
   "metadata": {},
   "outputs": [],
   "source": [
    "from scipy.sparse import csr_matrix \n",
    "from collections import Counter\n",
    "val = list()\n",
    "rows = list()\n",
    "cols = list()\n",
    "tmp = 0\n",
    "for string in data_tok:\n",
    "    val.extend(dict(Counter(string)).values())\n",
    "    for word in dict(Counter(string)).keys():\n",
    "        cols.append(dictionary[word])\n",
    "        rows.append(tmp)\n",
    "    tmp += 1\n",
    "matrix = csr_matrix((val, (rows, cols)), shape=(len(data_tok), len(dictionary)))    "
   ]
  },
  {
   "cell_type": "code",
   "execution_count": 34,
   "metadata": {},
   "outputs": [
    {
     "data": {
      "text/plain": [
       "<11314x98734 sparse matrix of type '<class 'numpy.int64'>'\n",
       "\twith 1147077 stored elements in Compressed Sparse Row format>"
      ]
     },
     "execution_count": 34,
     "metadata": {},
     "output_type": "execute_result"
    }
   ],
   "source": [
    "matrix"
   ]
  },
  {
   "cell_type": "markdown",
   "metadata": {},
   "source": [
    "*Так мы получили векторное представление наших текстов. Значит можно приступать к задаче обучения модели*"
   ]
  },
  {
   "cell_type": "markdown",
   "metadata": {},
   "source": [
    "Реализуйте разбиение выборки для кросс-валидации на 3 фолдах. Разрешено использовать sklearn.cross_validation"
   ]
  },
  {
   "cell_type": "code",
   "execution_count": 35,
   "metadata": {},
   "outputs": [],
   "source": [
    "train = matrix"
   ]
  },
  {
   "cell_type": "code",
   "execution_count": 36,
   "metadata": {},
   "outputs": [],
   "source": [
    "from sklearn.model_selection import cross_val_score\n",
    "from sklearn import svm"
   ]
  },
  {
   "cell_type": "code",
   "execution_count": 37,
   "metadata": {},
   "outputs": [
    {
     "name": "stdout",
     "output_type": "stream",
     "text": [
      "0.5493403693931398 0.807177289769684\n"
     ]
    }
   ],
   "source": [
    "X_train, X_test, y_train, y_test = train_test_split(train, target, test_size = 0.33)\n",
    "knn = KNeighborsClassifier()\n",
    "knn.fit(X_train, y_train)\n",
    "y_train_predict = knn.predict(X_train)\n",
    "y_test_predict = knn.predict(X_test)\n",
    "error_train = np.mean(y_train != y_train_predict)\n",
    "error_test  = np.mean(y_test  != y_test_predict)\n",
    "print (error_train, error_test)"
   ]
  },
  {
   "cell_type": "code",
   "execution_count": 38,
   "metadata": {},
   "outputs": [
    {
     "name": "stdout",
     "output_type": "stream",
     "text": [
      "0.5572559366754617 0.807177289769684\n"
     ]
    }
   ],
   "source": [
    "X_train, X_test, y_train, y_test = train_test_split(train, target, test_size = 0.33)\n",
    "knn = MyKNeighborsClassifier(n_neighbors=5)\n",
    "knn.fit(X_train, y_train)\n",
    "y_train_predict = knn.predict(X_train)\n",
    "y_test_predict = knn.predict(X_test)\n",
    "error_train = np.mean(y_train != y_train_predict)\n",
    "error_test  = np.mean(y_test  != y_test_predict)\n",
    "print (error_train, error_test)"
   ]
  },
  {
   "cell_type": "code",
   "execution_count": 39,
   "metadata": {},
   "outputs": [
    {
     "data": {
      "text/plain": [
       "array([0.18331126, 0.18870925, 0.19835369])"
      ]
     },
     "execution_count": 39,
     "metadata": {},
     "output_type": "execute_result"
    }
   ],
   "source": [
    "scores = cross_val_score(KNeighborsClassifier(), train, target, cv=3)\n",
    "scores "
   ]
  },
  {
   "cell_type": "code",
   "execution_count": 40,
   "metadata": {},
   "outputs": [
    {
     "data": {
      "text/plain": [
       "array([0.18331126, 0.18870925, 0.19835369])"
      ]
     },
     "execution_count": 40,
     "metadata": {},
     "output_type": "execute_result"
    }
   ],
   "source": [
    "scores = cross_val_score(MyKNeighborsClassifier(n_neighbors = 5), train, target, cv=3)\n",
    "scores"
   ]
  },
  {
   "cell_type": "markdown",
   "metadata": {},
   "source": [
    "Напишите метод, позволяющий найти оптимальное количество ближайших соседей(дающее максимальный score в среднем на валидации на 3 фолдах).\n",
    "Постройте график зависимости среднего score от количества соседей. Можно рассмотреть число соседей от 1 до 10."
   ]
  },
  {
   "cell_type": "code",
   "execution_count": 41,
   "metadata": {},
   "outputs": [],
   "source": [
    "from sklearn.model_selection import GridSearchCV"
   ]
  },
  {
   "cell_type": "code",
   "execution_count": 42,
   "metadata": {},
   "outputs": [
    {
     "name": "stdout",
     "output_type": "stream",
     "text": [
      "0.18891820580474933\n",
      "{'n_neighbors': 1}\n"
     ]
    }
   ],
   "source": [
    "#задаем сетку\n",
    "param_grid = {'n_neighbors': np.arange(1,10)}\n",
    "#задаем количество fold-ов для кросс-валидации\n",
    "f = 3\n",
    "#объявляем классификатор\n",
    "estimator_knn = KNeighborsClassifier()\n",
    "#передаем сетку, классификатор и количество fold-ов в метод подбора параметров по сетке\n",
    "optimazer_knn = GridSearchCV(estimator_knn, param_grid, cv = f)\n",
    "#запускаем подбор параметров по сетке на обучающей выборке\n",
    "optimazer_knn.fit(X_train, y_train)\n",
    "#смотрим лучшие параметры и качество алгоритма на лучших параметрах\n",
    "print (optimazer_knn.best_score_)\n",
    "print (optimazer_knn.best_params_)\n"
   ]
  },
  {
   "cell_type": "code",
   "execution_count": 43,
   "metadata": {},
   "outputs": [
    {
     "name": "stdout",
     "output_type": "stream",
     "text": [
      "0.18891820580474933\n",
      "{'n_neighbors': 1}\n"
     ]
    }
   ],
   "source": [
    "#задаем сетку\n",
    "param_grid = {'n_neighbors': np.arange(1,10)}\n",
    "#задаем количество fold-ов для кросс-валидации\n",
    "f = 3\n",
    "#объявляем классификатор\n",
    "estimator_knn = MyKNeighborsClassifier('n_neighbors')\n",
    "#передаем сетку, классификатор и количество fold-ов в метод подбора параметров по сетке\n",
    "optimazer_knn = GridSearchCV(estimator_knn, param_grid, cv = f)\n",
    "#запускаем подбор параметров по сетке на обучающей выборке\n",
    "optimazer_knn.fit(X_train, y_train)\n",
    "#смотрим лучшие параметры и качество алгоритма на лучших параметрах\n",
    "print (optimazer_knn.best_score_)\n",
    "print (optimazer_knn.best_params_)"
   ]
  },
  {
   "cell_type": "code",
   "execution_count": 44,
   "metadata": {},
   "outputs": [
    {
     "data": {
      "text/plain": [
       "[<matplotlib.lines.Line2D at 0x7f4159aa3650>]"
      ]
     },
     "execution_count": 44,
     "metadata": {},
     "output_type": "execute_result"
    },
    {
     "data": {
      "image/png": "[encoded data removed]",
      "text/plain": [
       "<Figure size 432x288 with 1 Axes>"
      ]
     },
     "metadata": {
      "needs_background": "light"
     },
     "output_type": "display_data"
    }
   ],
   "source": [
    "scores = list()\n",
    "for i in range(1, 10):\n",
    "    knn = MyKNeighborsClassifier(n_neighbors=i)\n",
    "    knn.fit(X_train, y_train)\n",
    "    scores.append(knn.score(X_train,y_train))\n",
    "plt.plot(range(1, 10), scores)"
   ]
  },
  {
   "cell_type": "markdown",
   "metadata": {},
   "source": [
    "Как изменится качество на валидации, если:\n",
    "\n",
    "1. Используется косинусная метрика вместо евклидовой.\n",
    "2. К текстам применяется TfIdf преобразование( sklearn.feature_extraction.text.TfidfTransformer)\n",
    "\n",
    "Сравните модели, выберите лучшую."
   ]
  },
  {
   "cell_type": "markdown",
   "metadata": {},
   "source": [
    "Загрузим  теперь test  часть нашей выборки и преобразуем её аналогично с train частью. Не забудьте, что наборы слов в train и test части могут отличаться."
   ]
  },
  {
   "cell_type": "code",
   "execution_count": 45,
   "metadata": {},
   "outputs": [],
   "source": [
    "newsgroups = fetch_20newsgroups(subset='test',remove=['headers','footers', 'quotes'])"
   ]
  },
  {
   "cell_type": "code",
   "execution_count": 46,
   "metadata": {},
   "outputs": [],
   "source": [
    "data = newsgroups['data']\n",
    "target = newsgroups['target']"
   ]
  },
  {
   "cell_type": "code",
   "execution_count": 47,
   "metadata": {},
   "outputs": [],
   "source": [
    "import re\n",
    "data_tok = list()\n",
    "data_2 = list()\n",
    "data_1 = list()\n",
    "#data_tok =  #realize here\n",
    "# data_tok should be a list of lists of tokens for each line in data.\n",
    "for i in range (len(data)):\n",
    "    data_1.append(re.sub('\\s+', ' ', (re.sub(r\"[^A-Za-z0-9\\s]+\", ' ', data[i].lower()))))\n",
    "    data_2.append(re.sub('\\s+',' ',data_1[i]))\n",
    "for i in range (len(data_2)):\n",
    "    data_2[i] = list(filter(None, re.split('\\W', data_2[i])))\n",
    "    #if data_2[i]\n",
    "    data_tok.append(data_2[i])"
   ]
  },
  {
   "cell_type": "code",
   "execution_count": null,
   "metadata": {},
   "outputs": [],
   "source": [
    "from scipy.sparse import csr_matrix \n",
    "from collections import Counter\n",
    "val = list()\n",
    "rows = list()\n",
    "cols = list()\n",
    "tmp = 0\n",
    "for string in data_tok:\n",
    "    d = dict(Counter(string))\n",
    "    k = list(d.keys())\n",
    "    l = list()\n",
    "    for i in k:\n",
    "        if i in list(dictionary.keys()):\n",
    "            l.append(i)\n",
    "    string_new = {}\n",
    "    for lol in l:\n",
    "        string_new.update({lol: d[lol]})\n",
    "    val.extend(string_new.values())\n",
    "    for word in string_new.keys():\n",
    "        cols.append(dictionary[word])\n",
    "        rows.append(tmp)\n",
    "    tmp += 1\n",
    "matrix = csr_matrix((val, (rows, cols)), shape=(len(data_tok), len(dictionary)))    "
   ]
  },
  {
   "cell_type": "code",
   "execution_count": null,
   "metadata": {},
   "outputs": [],
   "source": [
    "train = matrix"
   ]
  },
  {
   "cell_type": "code",
   "execution_count": null,
   "metadata": {},
   "outputs": [],
   "source": [
    "X_train, X_test, y_train, y_test = train_test_split(train, target, test_size = 0.33)\n",
    "knn = MyKNeighborsClassifier(n_neighbors=5)\n",
    "knn.fit(X_train, y_train)\n",
    "y_train_predict = knn.predict(X_train)\n",
    "y_test_predict = knn.predict(X_test)\n",
    "error_train = np.mean(y_train != y_train_predict)\n",
    "error_test  = np.mean(y_test  != y_test_predict)\n",
    "print (error_train, error_test)"
   ]
  },
  {
   "cell_type": "markdown",
   "metadata": {},
   "source": [
    "Оценим качество(score) вашей лучшей модели на test части датасета. Отличается ли оно от кросс-валидации? Попробуйте сделать выводы, почему отличается качество."
   ]
  },
  {
   "cell_type": "markdown",
   "metadata": {},
   "source": [
    "Будет отличаться в следствии того, что часть слов, содержащихся в текстах тестовой выборки, не содержится ни в одном из текстов тренировочной, и наоборот."
   ]
  }
 ],
 "metadata": {
  "kernelspec": {
   "display_name": "Python 3",
   "language": "python",
   "name": "python3"
  },
  "language_info": {
   "codemirror_mode": {
    "name": "ipython",
    "version": 3
   },
   "file_extension": ".py",
   "mimetype": "text/x-python",
   "name": "python",
   "nbconvert_exporter": "python",
   "pygments_lexer": "ipython3",
   "version": "3.7.4"
  }
 },
 "nbformat": 4,
 "nbformat_minor": 2
}
